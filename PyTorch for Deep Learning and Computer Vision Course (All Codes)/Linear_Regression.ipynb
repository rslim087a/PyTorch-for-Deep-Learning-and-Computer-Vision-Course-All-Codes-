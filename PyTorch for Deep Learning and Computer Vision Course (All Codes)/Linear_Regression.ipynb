{
  "nbformat": 4,
  "nbformat_minor": 0,
  "metadata": {
    "colab": {
      "provenance": [],
      "include_colab_link": true
    },
    "kernelspec": {
      "name": "python3",
      "display_name": "Python 3"
    }
  },
  "cells": [
    {
      "cell_type": "markdown",
      "metadata": {
        "id": "view-in-github",
        "colab_type": "text"
      },
      "source": [
        "<a href=\"https://colab.research.google.com/github/ThadeuFerreira/PyTorch-for-Deep-Learning-and-Computer-Vision-Course-All-Codes-/blob/master/PyTorch%20for%20Deep%20Learning%20and%20Computer%20Vision%20Course%20(All%20Codes)/Linear_Regression.ipynb\" target=\"_parent\"><img src=\"https://colab.research.google.com/assets/colab-badge.svg\" alt=\"Open In Colab\"/></a>"
      ]
    },
    {
      "metadata": {
        "id": "oHxQbKZci27E",
        "outputId": "79d7f483-bc9e-423a-8a94-c8717945a04a",
        "colab": {
          "base_uri": "https://localhost:8080/"
        }
      },
      "cell_type": "code",
      "source": [
        "!pip3 install torch"
      ],
      "execution_count": 242,
      "outputs": [
        {
          "output_type": "stream",
          "name": "stdout",
          "text": [
            "Looking in indexes: https://pypi.org/simple, https://us-python.pkg.dev/colab-wheels/public/simple/\n",
            "Requirement already satisfied: torch in /usr/local/lib/python3.8/dist-packages (1.13.1+cu116)\n",
            "Requirement already satisfied: typing-extensions in /usr/local/lib/python3.8/dist-packages (from torch) (4.4.0)\n"
          ]
        }
      ]
    },
    {
      "metadata": {
        "id": "g90d_JwFi8I7"
      },
      "cell_type": "code",
      "source": [
        "import torch\n",
        "import torch.nn as nn\n",
        "import matplotlib.pyplot as plt\n",
        "import numpy as np"
      ],
      "execution_count": 243,
      "outputs": []
    },
    {
      "metadata": {
        "id": "BkdXhIlXvKzM",
        "outputId": "8866d18b-abdb-45ca-f40a-ac09b26cc02b",
        "colab": {
          "base_uri": "https://localhost:8080/",
          "height": 297
        }
      },
      "cell_type": "code",
      "source": [
        "X = torch.randn(100, 1)*10\n",
        "y = X + 3*torch.randn(100, 1)\n",
        "plt.plot(X.numpy(), y.numpy(), 'o')\n",
        "plt.ylabel('y')\n",
        "plt.xlabel('x')"
      ],
      "execution_count": 244,
      "outputs": [
        {
          "output_type": "execute_result",
          "data": {
            "text/plain": [
              "Text(0.5, 0, 'x')"
            ]
          },
          "metadata": {},
          "execution_count": 244
        },
        {
          "output_type": "display_data",
          "data": {
            "text/plain": [
              "<Figure size 432x288 with 1 Axes>"
            ],
            "image/png": "[encoded data removed]"
          },
          "metadata": {
            "needs_background": "light"
          }
        }
      ]
    },
    {
      "metadata": {
        "id": "Voo3RX1IYz21"
      },
      "cell_type": "code",
      "source": [
        "class LR(nn.Module):\n",
        "  def __init__(self, input_size, output_size):\n",
        "    super().__init__()\n",
        "    self.linear = nn.Linear(input_size, output_size)\n",
        "  def forward(self, x):\n",
        "    pred = self.linear(x)\n",
        "    return pred"
      ],
      "execution_count": 245,
      "outputs": []
    },
    {
      "metadata": {
        "id": "PeyVS6V_aBfy",
        "outputId": "af3ecbef-f9a6-4ee6-b966-cf748300f2ae",
        "colab": {
          "base_uri": "https://localhost:8080/"
        }
      },
      "cell_type": "code",
      "source": [
        "torch.manual_seed(1)\n",
        "model = LR(1, 1)\n",
        "print(model)"
      ],
      "execution_count": 246,
      "outputs": [
        {
          "output_type": "stream",
          "name": "stdout",
          "text": [
            "LR(\n",
            "  (linear): Linear(in_features=1, out_features=1, bias=True)\n",
            ")\n"
          ]
        }
      ]
    },
    {
      "metadata": {
        "id": "e1HHLRTbaeZF"
      },
      "cell_type": "code",
      "source": [
        "[w, b] = model.parameters()\n",
        "def get_params():\n",
        "  return (w[0][0].item(), b[0].item())"
      ],
      "execution_count": 247,
      "outputs": []
    },
    {
      "metadata": {
        "id": "x1bjDI3vxEmd"
      },
      "cell_type": "code",
      "source": [
        "def plot_fit(title):\n",
        "  plt.title = title\n",
        "  w1, b1 = get_params()\n",
        "  x1 = np.array([-30, 30])\n",
        "  y1 = w1*x1 + b1\n",
        "  plt.plot(x1, y1, 'r')\n",
        "  plt.scatter(X, y)\n",
        "  plt.show()"
      ],
      "execution_count": 248,
      "outputs": []
    },
    {
      "metadata": {
        "id": "wYEJKbTEy2Ci",
        "outputId": "6cdb9e27-c242-4491-b607-f62d4e3b44c9",
        "colab": {
          "base_uri": "https://localhost:8080/",
          "height": 265
        }
      },
      "cell_type": "code",
      "source": [
        "plot_fit('Initial Model')"
      ],
      "execution_count": 249,
      "outputs": [
        {
          "output_type": "display_data",
          "data": {
            "text/plain": [
              "<Figure size 432x288 with 1 Axes>"
            ],
            "image/png": "[encoded data removed]"
          },
          "metadata": {
            "needs_background": "light"
          }
        }
      ]
    },
    {
      "metadata": {
        "id": "4Z9-HIA0y5S7"
      },
      "cell_type": "code",
      "source": [
        "criterion = nn.MSELoss()\n",
        "optimizer = torch.optim.SGD(model.parameters(), lr = 0.001)"
      ],
      "execution_count": 250,
      "outputs": []
    },
    {
      "metadata": {
        "id": "wu4Qzn3PCeJ9",
        "outputId": "41418a37-d4bb-4646-db10-2ccf6166ed4e",
        "colab": {
          "base_uri": "https://localhost:8080/"
        }
      },
      "cell_type": "code",
      "source": [
        "epochs = 100\n",
        "losses = []\n",
        "for i in range(epochs):\n",
        "  y_pred = model.forward(X)\n",
        "  loss = criterion(y_pred, y)\n",
        "  print(\"epoch:\", i, \"loss:\", loss.item())\n",
        "  \n",
        "  losses.append(loss)\n",
        "  optimizer.zero_grad()\n",
        "  loss.backward()\n",
        "  optimizer.step()"
      ],
      "execution_count": 251,
      "outputs": [
        {
          "output_type": "stream",
          "name": "stdout",
          "text": [
            "epoch: 0 loss: 36.448326110839844\n",
            "epoch: 1 loss: 25.847070693969727\n",
            "epoch: 2 loss: 19.274921417236328\n",
            "epoch: 3 loss: 15.200486183166504\n",
            "epoch: 4 loss: 12.67442512512207\n",
            "epoch: 5 loss: 11.108231544494629\n",
            "epoch: 6 loss: 10.137072563171387\n",
            "epoch: 7 loss: 9.534791946411133\n",
            "epoch: 8 loss: 9.161184310913086\n",
            "epoch: 9 loss: 8.92933464050293\n",
            "epoch: 10 loss: 8.785365104675293\n",
            "epoch: 11 loss: 8.69587516784668\n",
            "epoch: 12 loss: 8.640159606933594\n",
            "epoch: 13 loss: 8.605380058288574\n",
            "epoch: 14 loss: 8.583581924438477\n",
            "epoch: 15 loss: 8.569831848144531\n",
            "epoch: 16 loss: 8.56106948852539\n",
            "epoch: 17 loss: 8.555403709411621\n",
            "epoch: 18 loss: 8.551656723022461\n",
            "epoch: 19 loss: 8.549099922180176\n",
            "epoch: 20 loss: 8.547282218933105\n",
            "epoch: 21 loss: 8.545924186706543\n",
            "epoch: 22 loss: 8.544849395751953\n",
            "epoch: 23 loss: 8.543954849243164\n",
            "epoch: 24 loss: 8.543170928955078\n",
            "epoch: 25 loss: 8.54245662689209\n",
            "epoch: 26 loss: 8.541786193847656\n",
            "epoch: 27 loss: 8.541145324707031\n",
            "epoch: 28 loss: 8.540521621704102\n",
            "epoch: 29 loss: 8.539909362792969\n",
            "epoch: 30 loss: 8.539307594299316\n",
            "epoch: 31 loss: 8.538711547851562\n",
            "epoch: 32 loss: 8.538119316101074\n",
            "epoch: 33 loss: 8.537530899047852\n",
            "epoch: 34 loss: 8.536945343017578\n",
            "epoch: 35 loss: 8.536364555358887\n",
            "epoch: 36 loss: 8.535784721374512\n",
            "epoch: 37 loss: 8.535205841064453\n",
            "epoch: 38 loss: 8.53463363647461\n",
            "epoch: 39 loss: 8.534061431884766\n",
            "epoch: 40 loss: 8.533492088317871\n",
            "epoch: 41 loss: 8.532923698425293\n",
            "epoch: 42 loss: 8.532360076904297\n",
            "epoch: 43 loss: 8.5317964553833\n",
            "epoch: 44 loss: 8.531234741210938\n",
            "epoch: 45 loss: 8.530675888061523\n",
            "epoch: 46 loss: 8.530119895935059\n",
            "epoch: 47 loss: 8.529565811157227\n",
            "epoch: 48 loss: 8.529012680053711\n",
            "epoch: 49 loss: 8.528463363647461\n",
            "epoch: 50 loss: 8.527915000915527\n",
            "epoch: 51 loss: 8.52737045288086\n",
            "epoch: 52 loss: 8.526826858520508\n",
            "epoch: 53 loss: 8.526284217834473\n",
            "epoch: 54 loss: 8.525745391845703\n",
            "epoch: 55 loss: 8.52520751953125\n",
            "epoch: 56 loss: 8.524674415588379\n",
            "epoch: 57 loss: 8.524140357971191\n",
            "epoch: 58 loss: 8.523609161376953\n",
            "epoch: 59 loss: 8.523080825805664\n",
            "epoch: 60 loss: 8.522553443908691\n",
            "epoch: 61 loss: 8.522029876708984\n",
            "epoch: 62 loss: 8.521507263183594\n",
            "epoch: 63 loss: 8.520986557006836\n",
            "epoch: 64 loss: 8.520466804504395\n",
            "epoch: 65 loss: 8.519950866699219\n",
            "epoch: 66 loss: 8.51943588256836\n",
            "epoch: 67 loss: 8.518924713134766\n",
            "epoch: 68 loss: 8.518413543701172\n",
            "epoch: 69 loss: 8.517904281616211\n",
            "epoch: 70 loss: 8.5173978805542\n",
            "epoch: 71 loss: 8.516894340515137\n",
            "epoch: 72 loss: 8.51639175415039\n",
            "epoch: 73 loss: 8.515891075134277\n",
            "epoch: 74 loss: 8.515393257141113\n",
            "epoch: 75 loss: 8.51489543914795\n",
            "epoch: 76 loss: 8.51440143585205\n",
            "epoch: 77 loss: 8.513909339904785\n",
            "epoch: 78 loss: 8.513418197631836\n",
            "epoch: 79 loss: 8.512928009033203\n",
            "epoch: 80 loss: 8.512442588806152\n",
            "epoch: 81 loss: 8.511958122253418\n",
            "epoch: 82 loss: 8.511473655700684\n",
            "epoch: 83 loss: 8.510993957519531\n",
            "epoch: 84 loss: 8.510513305664062\n",
            "epoch: 85 loss: 8.51003646850586\n",
            "epoch: 86 loss: 8.509560585021973\n",
            "epoch: 87 loss: 8.509086608886719\n",
            "epoch: 88 loss: 8.508615493774414\n",
            "epoch: 89 loss: 8.50814437866211\n",
            "epoch: 90 loss: 8.50767707824707\n",
            "epoch: 91 loss: 8.507209777832031\n",
            "epoch: 92 loss: 8.506745338439941\n",
            "epoch: 93 loss: 8.5062837600708\n",
            "epoch: 94 loss: 8.50582218170166\n",
            "epoch: 95 loss: 8.505363464355469\n",
            "epoch: 96 loss: 8.504904747009277\n",
            "epoch: 97 loss: 8.504449844360352\n",
            "epoch: 98 loss: 8.503996849060059\n",
            "epoch: 99 loss: 8.503543853759766\n"
          ]
        }
      ]
    },
    {
      "metadata": {
        "id": "j3D-8o6MDXO9",
        "outputId": "687a362c-5984-4ad2-d5b6-62671dde2337",
        "colab": {
          "base_uri": "https://localhost:8080/",
          "height": 297
        }
      },
      "cell_type": "code",
      "source": [
        "losses_np = [loss.detach().numpy() for loss in losses]\n",
        "plt.plot(range(epochs), losses_np)\n",
        "plt.ylabel('Loss')\n",
        "plt.xlabel('epoch')"
      ],
      "execution_count": 252,
      "outputs": [
        {
          "output_type": "execute_result",
          "data": {
            "text/plain": [
              "Text(0.5, 0, 'epoch')"
            ]
          },
          "metadata": {},
          "execution_count": 252
        },
        {
          "output_type": "display_data",
          "data": {
            "text/plain": [
              "<Figure size 432x288 with 1 Axes>"
            ],
            "image/png": "[encoded data removed]"
          },
          "metadata": {
            "needs_background": "light"
          }
        }
      ]
    },
    {
      "metadata": {
        "id": "VwsPWhWJFONF",
        "outputId": "37896a06-e130-4312-9833-8a011c416590",
        "colab": {
          "base_uri": "https://localhost:8080/",
          "height": 265
        }
      },
      "cell_type": "code",
      "source": [
        "plot_fit(\"Trained Model\")"
      ],
      "execution_count": 253,
      "outputs": [
        {
          "output_type": "display_data",
          "data": {
            "text/plain": [
              "<Figure size 432x288 with 1 Axes>"
            ],
            "image/png": "[encoded data removed]"
          },
          "metadata": {
            "needs_background": "light"
          }
        }
      ]
    },
    {
      "metadata": {
        "id": "Eyc77EKUFYgZ"
      },
      "cell_type": "code",
      "source": [],
      "execution_count": 253,
      "outputs": []
    }
  ]
}